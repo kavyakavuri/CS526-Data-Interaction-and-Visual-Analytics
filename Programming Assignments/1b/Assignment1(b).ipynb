{
 "cells": [
  {
   "cell_type": "code",
   "execution_count": 107,
   "metadata": {},
   "outputs": [],
   "source": [
    "import pandas as pd\n",
    "import matplotlib.pyplot as plt\n",
    "import numpy as np"
   ]
  },
  {
   "cell_type": "code",
   "execution_count": 108,
   "metadata": {},
   "outputs": [],
   "source": [
    "f=open(\"cdbrfss2000asc.ASC\",\"r\")\n",
    "lines=f.readlines()\n",
    "f.close()\n",
    "arr = []\n",
    "for l in lines:\n",
    "    arr.append([float(l[861:864])/10, int(l[173:174])])\n",
    "df2000 = pd.DataFrame(np.array(arr), columns = [\"BMI\", \"Gender\"])"
   ]
  },
  {
   "cell_type": "code",
   "execution_count": 109,
   "metadata": {},
   "outputs": [],
   "source": [
    "f=open(\"cdbrfss2001asc.ASC\",\"r\")\n",
    "lines=f.readlines()\n",
    "f.close()\n",
    "arr = []\n",
    "for l in lines:\n",
    "    arr.append([float(l[724:730])/10000, int(l[138:139])])\n",
    "df2001 = pd.DataFrame(np.array(arr), columns = [\"BMI\", \"Gender\"])"
   ]
  },
  {
   "cell_type": "code",
   "execution_count": 110,
   "metadata": {},
   "outputs": [],
   "source": [
    "f=open(\"cdbrfs2002asc.ASC\",\"r\")\n",
    "lines=f.readlines()\n",
    "f.close()\n",
    "arr = []\n",
    "for l in lines:\n",
    "    arr.append([float(l[932:936])/100, int(l[148:149])])\n",
    "df2002 = pd.DataFrame(np.array(arr), columns = [\"BMI\", \"Gender\"])"
   ]
  },
  {
   "cell_type": "code",
   "execution_count": 111,
   "metadata": {},
   "outputs": [],
   "source": [
    "f=open(\"CDBRFS03.ASC\",\"r\")\n",
    "lines=f.readlines()\n",
    "f.close()\n",
    "arr = []\n",
    "for l in lines:\n",
    "    arr.append([float(l[853:857])/100, int(l[160:161])])\n",
    "df2003 = pd.DataFrame(np.array(arr), columns = [\"BMI\", \"Gender\"])"
   ]
  },
  {
   "cell_type": "code",
   "execution_count": 112,
   "metadata": {},
   "outputs": [],
   "source": [
    "f=open(\"LLCP2011.ASC\",\"r\")\n",
    "lines=f.readlines()\n",
    "f.close()\n",
    "arr = []\n",
    "for l in lines:\n",
    "    arr.append([l[1532:1536], int(l[150:151])])\n",
    "df2011 = pd.DataFrame(np.array(arr), columns = [\"BMI\", \"Gender\"])"
   ]
  },
  {
   "cell_type": "code",
   "execution_count": 113,
   "metadata": {},
   "outputs": [],
   "source": [
    "f=open(\"LLCP2012.ASC\",\"r\")\n",
    "lines=f.readlines()\n",
    "f.close()\n",
    "arr = []\n",
    "for l in lines:\n",
    "    arr.append([l[1643:1647], int(l[140:141])])\n",
    "df2012 = pd.DataFrame(np.array(arr), columns = [\"BMI\", \"Gender\"])"
   ]
  },
  {
   "cell_type": "code",
   "execution_count": 114,
   "metadata": {},
   "outputs": [],
   "source": [
    "f=open(\"LLCP2013.ASC\",\"r\",encoding='cp1252')\n",
    "lines=f.readlines()\n",
    "f.close()\n",
    "arr = []\n",
    "for l in lines:\n",
    "    arr.append([l[2191:2195], int(l[177:178])])\n",
    "df2013 = pd.DataFrame(np.array(arr), columns = [\"BMI\", \"Gender\"])"
   ]
  },
  {
   "cell_type": "code",
   "execution_count": 115,
   "metadata": {},
   "outputs": [],
   "source": [
    "f=open(\"LLCP2014.ASC\",\"r\",encoding='cp1252')\n",
    "lines=f.readlines()\n",
    "f.close()\n",
    "arr = []\n",
    "for l in lines:\n",
    "    arr.append([l[2246:2250], int(l[177:178])])\n",
    "df2014 = pd.DataFrame(np.array(arr), columns = [\"BMI\", \"Gender\"])"
   ]
  },
  {
   "cell_type": "code",
   "execution_count": 116,
   "metadata": {},
   "outputs": [],
   "source": [
    "#dropping the rows with empty BMI values\n",
    "df2011.drop(df2011.loc[df2011[\"BMI\"] == '    '].index, inplace=True)\n",
    "df2012.drop(df2012.loc[df2012[\"BMI\"] == '    '].index, inplace=True)\n",
    "df2013.drop(df2013.loc[df2013[\"BMI\"] == '    '].index, inplace=True)\n",
    "df2014.drop(df2014.loc[df2014[\"BMI\"] == '    '].index, inplace=True)"
   ]
  },
  {
   "cell_type": "code",
   "execution_count": 117,
   "metadata": {},
   "outputs": [],
   "source": [
    "#converting BMI to float values\n",
    "df2011[\"BMI\"] = df2011[\"BMI\"].astype(float)/100\n",
    "df2012[\"BMI\"] = df2012[\"BMI\"].astype(float)/100\n",
    "df2013[\"BMI\"] = df2013[\"BMI\"].astype(float)/100\n",
    "df2014[\"BMI\"] = df2014[\"BMI\"].astype(float)/100"
   ]
  },
  {
   "cell_type": "code",
   "execution_count": 118,
   "metadata": {},
   "outputs": [],
   "source": [
    "#converting gender to integer values\n",
    "df2000[\"Gender\"] = df2000[\"Gender\"].astype(int)\n",
    "df2001[\"Gender\"] = df2001[\"Gender\"].astype(int)\n",
    "df2002[\"Gender\"] = df2002[\"Gender\"].astype(int)\n",
    "df2003[\"Gender\"] = df2003[\"Gender\"].astype(int)\n",
    "df2011[\"Gender\"] = df2011[\"Gender\"].astype(int)\n",
    "df2012[\"Gender\"] = df2012[\"Gender\"].astype(int)\n",
    "df2013[\"Gender\"] = df2013[\"Gender\"].astype(int)\n",
    "df2014[\"Gender\"] = df2014[\"Gender\"].astype(int)"
   ]
  },
  {
   "cell_type": "code",
   "execution_count": 120,
   "metadata": {},
   "outputs": [
    {
     "name": "stdout",
     "output_type": "stream",
     "text": [
      "The mean BMI for Year 2000 is: 29.71\n",
      "The mean BMI for Year 2001 is: 30.2\n",
      "The mean BMI for Year 2002 is: 30.15\n",
      "The mean BMI for Year 2003 is: 30.44\n",
      "The mean BMI for Year 2011 is: 27.67\n",
      "The mean BMI for Year 2012 is: 27.72\n",
      "The mean BMI for Year 2013 is: 27.82\n",
      "The mean BMI for Year 2014 is: 27.89\n"
     ]
    }
   ],
   "source": [
    "# means and standard deviations before clipping\n",
    "#calculating mean BMIs for all years \n",
    "dArray = [[df2000[\"BMI\"], df2001[\"BMI\"], df2002[\"BMI\"], df2003[\"BMI\"]],[df2011[\"BMI\"], df2012[\"BMI\"], df2013[\"BMI\"], df2014[\"BMI\"]]]\n",
    "lbls = [[\"Year 2000\", \"Year 2001\", \"Year 2002\", \"Year 2003\"], [\"Year 2011\", \"Year 2012\", \"Year 2013\", \"Year 2014\"]]\n",
    "for i in range(2):\n",
    "    for j in range(4):\n",
    "        m = round(dArray[i][j].mean(),2)\n",
    "        print(\"The mean BMI for \"+lbls[i][j]+\" is: \"+str(m))"
   ]
  },
  {
   "cell_type": "code",
   "execution_count": 121,
   "metadata": {},
   "outputs": [
    {
     "name": "stdout",
     "output_type": "stream",
     "text": [
      "The standard deviation in BMI for Year 2000 is: 16.08\n",
      "The standard deviation in BMI for Year 2001 is: 16.7\n",
      "The standard deviation in BMI for Year 2002 is: 16.41\n",
      "The standard deviation in BMI for Year 2003 is: 16.62\n",
      "The standard deviation in BMI for Year 2011 is: 6.03\n",
      "The standard deviation in BMI for Year 2012 is: 6.05\n",
      "The standard deviation in BMI for Year 2013 is: 6.15\n",
      "The standard deviation in BMI for Year 2014 is: 6.12\n"
     ]
    }
   ],
   "source": [
    "#calculating stantard deviation BMIs for all years \n",
    "dArray = [[df2000[\"BMI\"], df2001[\"BMI\"], df2002[\"BMI\"], df2003[\"BMI\"]],[df2011[\"BMI\"], df2012[\"BMI\"], df2013[\"BMI\"], df2014[\"BMI\"]]]\n",
    "lbls = [[\"Year 2000\", \"Year 2001\", \"Year 2002\", \"Year 2003\"], [\"Year 2011\", \"Year 2012\", \"Year 2013\", \"Year 2014\"]]\n",
    "for i in range(2):\n",
    "    for j in range(4):\n",
    "        m = round(dArray[i][j].std(),2)\n",
    "        print(\"The standard deviation in BMI for \"+lbls[i][j]+\" is: \"+str(m))"
   ]
  },
  {
   "cell_type": "code",
   "execution_count": 122,
   "metadata": {},
   "outputs": [
    {
     "data": {
      "text/plain": [
       "(4.485226348603958, 4.901416403933932, 4.710764465809553, 4.848423025192305)"
      ]
     },
     "execution_count": 122,
     "metadata": {},
     "output_type": "execute_result"
    }
   ],
   "source": [
    "# percentage of rows being dropped = roughly 5%\n",
    "len(df2000[df2000['BMI']>90])/len(df2000)*100,len(df2001[df2001['BMI']>90])/len(df2001)*100,len(df2002[df2002['BMI']>90])/len(df2002)*100,len(df2003[df2003['BMI']>90])/len(df2003)*100"
   ]
  },
  {
   "cell_type": "code",
   "execution_count": 99,
   "metadata": {},
   "outputs": [],
   "source": [
    "#getting rid of unknown BMI value rows\n",
    "df2000.drop(df2000.loc[df2000[\"BMI\"]<12.5].index, inplace=True)\n",
    "df2001.drop(df2001.loc[df2001[\"BMI\"]<12.5].index, inplace=True)\n",
    "df2002.drop(df2002.loc[df2002[\"BMI\"]<12.5].index, inplace=True)\n",
    "df2003.drop(df2003.loc[df2003[\"BMI\"]<12.5].index, inplace=True)\n",
    "df2011.drop(df2011.loc[df2011[\"BMI\"]<12.5].index, inplace=True)\n",
    "df2012.drop(df2012.loc[df2012[\"BMI\"]<12.5].index, inplace=True)\n",
    "df2013.drop(df2013.loc[df2013[\"BMI\"]<12.5].index, inplace=True)\n",
    "df2014.drop(df2014.loc[df2014[\"BMI\"]<12.5].index, inplace=True)\n",
    "\n",
    "df2000.drop(df2000.loc[df2000[\"BMI\"]>90].index, inplace=True)\n",
    "df2001.drop(df2001.loc[df2001[\"BMI\"]>90].index, inplace=True)\n",
    "df2002.drop(df2002.loc[df2002[\"BMI\"]>90].index, inplace=True)\n",
    "df2003.drop(df2003.loc[df2003[\"BMI\"]>90].index, inplace=True)\n",
    "df2011.drop(df2011.loc[df2011[\"BMI\"]>90].index, inplace=True)\n",
    "df2012.drop(df2012.loc[df2012[\"BMI\"]>90].index, inplace=True)\n",
    "df2013.drop(df2013.loc[df2013[\"BMI\"]>90].index, inplace=True)\n",
    "df2014.drop(df2014.loc[df2014[\"BMI\"]>90].index, inplace=True)"
   ]
  },
  {
   "cell_type": "markdown",
   "metadata": {},
   "source": [
    "Histogram plots for BMI over all the years(i.e. 2000,2001,2002,2003,2011,2012,2013,2014)"
   ]
  },
  {
   "cell_type": "code",
   "execution_count": 39,
   "metadata": {},
   "outputs": [
    {
     "data": {
      "image/png": "[encoded data removed]",
      "text/plain": [
       "<Figure size 1152x720 with 8 Axes>"
      ]
     },
     "metadata": {
      "needs_background": "light"
     },
     "output_type": "display_data"
    }
   ],
   "source": [
    "figure, axis = plt.subplots(nrows=2, ncols=4, figsize=(16,10))\n",
    "\n",
    "dArray = [[df2000[\"BMI\"], df2001[\"BMI\"], df2002[\"BMI\"], df2003[\"BMI\"]],[df2011[\"BMI\"], df2012[\"BMI\"], df2013[\"BMI\"], df2014[\"BMI\"]]]\n",
    "lbls = [[\"Year 2000\", \"Year 2001\", \"Year 2002\", \"Year 2003\"], [\"Year 2011\", \"Year 2012\", \"Year 2013\", \"Year 2014\"]]\n",
    "bins = [15,18,21,24,27,30,33,36,39,42]\n",
    "\n",
    "for i in range(2):\n",
    "    for j in range(4):\n",
    "        \n",
    "        axis[i,j].hist(dArray[i][j], bins = bins, alpha=0.5, label=lbls[i][j])\n",
    "        axis[i,j].set_xlim(15,42)        \n",
    "        axis[i,j].tick_params(axis='both', which='major', labelsize=8)\n",
    "        \n",
    "        m = round(dArray[i][j].median(),2)\n",
    "        mt = \" (The Median BMI is: \" + str(m) + \")\"\n",
    "        axis[i,j].axvline(m, color='#D7263D', linestyle='dashed', linewidth=1.5)\n",
    "        axis[i, j].set_title(lbls[i][j] + mt)"
   ]
  },
  {
   "cell_type": "code",
   "execution_count": 104,
   "metadata": {},
   "outputs": [
    {
     "name": "stdout",
     "output_type": "stream",
     "text": [
      "The mean BMI for Year 2000 is: 26.0\n",
      "The mean BMI for Year 2001 is: 26.16\n",
      "The mean BMI for Year 2002 is: 26.23\n",
      "The mean BMI for Year 2003 is: 26.36\n",
      "The mean BMI for Year 2011 is: 26.93\n",
      "The mean BMI for Year 2012 is: 26.97\n",
      "The mean BMI for Year 2013 is: 27.03\n",
      "The mean BMI for Year 2014 is: 27.11\n"
     ]
    }
   ],
   "source": [
    "#calculating mean BMIs for all years \n",
    "dArray = [[df2000[\"BMI\"], df2001[\"BMI\"], df2002[\"BMI\"], df2003[\"BMI\"]],[df2011[\"BMI\"], df2012[\"BMI\"], df2013[\"BMI\"], df2014[\"BMI\"]]]\n",
    "lbls = [[\"Year 2000\", \"Year 2001\", \"Year 2002\", \"Year 2003\"], [\"Year 2011\", \"Year 2012\", \"Year 2013\", \"Year 2014\"]]\n",
    "for i in range(2):\n",
    "    for j in range(4):\n",
    "        m = round(dArray[i][j].mean(),2)\n",
    "        print(\"The mean BMI for \"+lbls[i][j]+\" is: \"+str(m))"
   ]
  },
  {
   "cell_type": "code",
   "execution_count": 105,
   "metadata": {},
   "outputs": [
    {
     "name": "stdout",
     "output_type": "stream",
     "text": [
      "The standard deviation in BMI for Year 2000 is: 4.54\n",
      "The standard deviation in BMI for Year 2001 is: 4.57\n",
      "The standard deviation in BMI for Year 2002 is: 4.58\n",
      "The standard deviation in BMI for Year 2003 is: 4.63\n",
      "The standard deviation in BMI for Year 2011 is: 4.78\n",
      "The standard deviation in BMI for Year 2012 is: 4.8\n",
      "The standard deviation in BMI for Year 2013 is: 4.83\n",
      "The standard deviation in BMI for Year 2014 is: 4.82\n"
     ]
    }
   ],
   "source": [
    "#calculating stantard deviation BMIs for all years \n",
    "dArray = [[df2000[\"BMI\"], df2001[\"BMI\"], df2002[\"BMI\"], df2003[\"BMI\"]],[df2011[\"BMI\"], df2012[\"BMI\"], df2013[\"BMI\"], df2014[\"BMI\"]]]\n",
    "lbls = [[\"Year 2000\", \"Year 2001\", \"Year 2002\", \"Year 2003\"], [\"Year 2011\", \"Year 2012\", \"Year 2013\", \"Year 2014\"]]\n",
    "for i in range(2):\n",
    "    for j in range(4):\n",
    "        m = round(dArray[i][j].std(),2)\n",
    "        print(\"The standard deviation in BMI for \"+lbls[i][j]+\" is: \"+str(m))"
   ]
  },
  {
   "cell_type": "markdown",
   "metadata": {},
   "source": [
    "Assertion: The population is going through pandemic.\n",
    "To test that the mean of BMIs is increasing every year, first, we need to satisfy the condition that the mean and standard deviation of all the samples are in a similar range. From the given data, the mean and standard deviations are in the range of 26.42 to 27.89 and 5.33 to 6.11 . Since this is satisfied, we can look at the histograms and see that the means are increasing every year. So the assertion is correct, the population is going through an obesity epidemic."
   ]
  },
  {
   "cell_type": "code",
   "execution_count": null,
   "metadata": {},
   "outputs": [],
   "source": []
  }
 ],
 "metadata": {
  "kernelspec": {
   "display_name": "Python 3",
   "language": "python",
   "name": "python3"
  },
  "language_info": {
   "codemirror_mode": {
    "name": "ipython",
    "version": 3
   },
   "file_extension": ".py",
   "mimetype": "text/x-python",
   "name": "python",
   "nbconvert_exporter": "python",
   "pygments_lexer": "ipython3",
   "version": "3.8.12"
  }
 },
 "nbformat": 4,
 "nbformat_minor": 4
}
